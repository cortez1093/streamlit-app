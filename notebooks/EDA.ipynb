{
 "cells": [
  {
   "cell_type": "markdown",
   "id": "1b0429db",
   "metadata": {
    "vscode": {
     "languageId": "plaintext"
    }
   },
   "source": [
    "# Exploring price, mileage, and condition of used vehicles\n",
    "\n",
    "This notebook explores and prepares the used car dataset. The goal is to understand the structure, handle missing data, and identify useful patterns for the dashboard.\n",
    "\n",
    "## Steps:\n",
    "1. Load and preview dataset\n",
    "2. Handle missing value using the group-based strategy transform()\n",
    "3. Explore data visually with a histogram and scattered plot"
   ]
  },
  {
   "cell_type": "code",
   "execution_count": null,
   "id": "046ad763",
   "metadata": {
    "vscode": {
     "languageId": "plaintext"
    }
   },
   "outputs": [],
   "source": [
    "import pandas as pd\n",
    "import plotly.express as px\n",
    "\n",
    "df = pd.read_csv('vehicles_us.csv')\n",
    "df.head()"
   ]
  },
  {
   "cell_type": "code",
   "execution_count": null,
   "id": "18277f3a",
   "metadata": {
    "vscode": {
     "languageId": "plaintext"
    }
   },
   "outputs": [],
   "source": [
    "df.isna().sum()"
   ]
  },
  {
   "cell_type": "markdown",
   "id": "4ec17997",
   "metadata": {},
   "source": [
    "## Missing Values\n",
    "\n",
    "Restoring missing data\n",
    "\n",
    "- **'is_4wd\"**: Filled with 0 and convert data type as bool.\n",
    "- **'paint_color'**: Filled with unknown since its not possible to fill value based on other car features.\n",
    "- **'cylinders'**, **'model_year'**, **'odometer'**: Filled using group-based median to preserve meaningful values with the transform() method."
   ]
  },
  {
   "cell_type": "code",
   "execution_count": null,
   "id": "ec392002",
   "metadata": {
    "vscode": {
     "languageId": "plaintext"
    }
   },
   "outputs": [],
   "source": [
    "df['is_4wd'] = df['is_4wd'].fillna(0).astype(bool)\n",
    "df['paint_color'] = df['paint_color'].fillna('Unknown')\n",
    "df['cylinders'] = df.groupby('type')['cylinders'].transform(lambda x: x.fillna(x.median()))\n",
    "df['model_year'] = df.groupby('model')['model_year'].transform(lambda x: x.fillna(x.median()))\n",
    "df['odometer'] = df.groupby('model_year')['odometer'].transform(lambda x: x.fillna(x.median()))\n",
    "df.dropna(subset = ['price', 'odometer', 'condition'], inplace = True)"
   ]
  },
  {
   "cell_type": "code",
   "execution_count": null,
   "id": "1ccfeb4e",
   "metadata": {
    "vscode": {
     "languageId": "plaintext"
    }
   },
   "outputs": [],
   "source": [
    "df.isna().sum()"
   ]
  },
  {
   "cell_type": "markdown",
   "id": "372936ed",
   "metadata": {},
   "source": [
    "## Data Visualization\n",
    "\n",
    "Explore the cleaned dataset using visualization to better understand relationships between feature such as price, odometer readings, and year."
   ]
  },
  {
   "cell_type": "code",
   "execution_count": null,
   "id": "37028363",
   "metadata": {
    "vscode": {
     "languageId": "plaintext"
    }
   },
   "outputs": [],
   "source": [
    "fig1 = px.histogram(df, x = 'odometer', nbins = 50, title = 'Odometer Distribution')\n",
    "fig1.show()"
   ]
  },
  {
   "cell_type": "code",
   "execution_count": null,
   "id": "0202e38b",
   "metadata": {
    "vscode": {
     "languageId": "plaintext"
    }
   },
   "outputs": [],
   "source": [
    "fig2 = px.scatter(df, x='odometer', y='price', color='condition', hover_data=['model_year', 'model'], title = 'Price vs. Odometer by Vehicle Condition')\n",
    "fig2.show()"
   ]
  }
 ],
 "metadata": {
  "language_info": {
   "name": "python"
  }
 },
 "nbformat": 4,
 "nbformat_minor": 5
}
